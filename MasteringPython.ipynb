{
 "cells": [
  {
   "cell_type": "markdown",
   "metadata": {},
   "source": [
    "# This is a Python Tutorial"
   ]
  },
  {
   "cell_type": "markdown",
   "metadata": {},
   "source": [
    "This is the first program in python: "
   ]
  },
  {
   "cell_type": "code",
   "execution_count": 1,
   "metadata": {},
   "outputs": [
    {
     "name": "stdout",
     "output_type": "stream",
     "text": [
      "Hello World\n"
     ]
    }
   ],
   "source": [
    "# Mandatory Hello World commmand\n",
    "print(\"Hello World\")"
   ]
  },
  {
   "cell_type": "markdown",
   "metadata": {},
   "source": [
    "## Variables"
   ]
  },
  {
   "cell_type": "code",
   "execution_count": 2,
   "metadata": {},
   "outputs": [],
   "source": [
    "# Assigning a variable a value\n",
    "x = 3"
   ]
  },
  {
   "cell_type": "code",
   "execution_count": 3,
   "metadata": {},
   "outputs": [
    {
     "name": "stdout",
     "output_type": "stream",
     "text": [
      "Variable   Type    Data/Info\n",
      "----------------------------\n",
      "x          int     3\n"
     ]
    }
   ],
   "source": [
    "# Shows you all variables in the memory\n",
    "%whos"
   ]
  },
  {
   "cell_type": "code",
   "execution_count": 4,
   "metadata": {},
   "outputs": [
    {
     "name": "stdout",
     "output_type": "stream",
     "text": [
      "<class 'int'>\n"
     ]
    }
   ],
   "source": [
    "# Explicitly check the type of a variable\n",
    "print(type(x))"
   ]
  },
  {
   "cell_type": "code",
   "execution_count": 5,
   "metadata": {},
   "outputs": [],
   "source": [
    "# Change the value of x and check the new type\n",
    "x = 5.7"
   ]
  },
  {
   "cell_type": "code",
   "execution_count": 6,
   "metadata": {},
   "outputs": [
    {
     "name": "stdout",
     "output_type": "stream",
     "text": [
      "Variable   Type     Data/Info\n",
      "-----------------------------\n",
      "x          float    5.7\n"
     ]
    }
   ],
   "source": [
    "%whos"
   ]
  },
  {
   "cell_type": "code",
   "execution_count": 7,
   "metadata": {},
   "outputs": [],
   "source": [
    "abcd = 556.32"
   ]
  },
  {
   "cell_type": "code",
   "execution_count": 8,
   "metadata": {},
   "outputs": [
    {
     "name": "stdout",
     "output_type": "stream",
     "text": [
      "Variable   Type     Data/Info\n",
      "-----------------------------\n",
      "abcd       float    556.32\n",
      "x          float    5.7\n"
     ]
    }
   ],
   "source": [
    "%whos"
   ]
  },
  {
   "cell_type": "code",
   "execution_count": 9,
   "metadata": {},
   "outputs": [],
   "source": [
    "a,b,c,d,f = 3,5,6.0,4.0,-3"
   ]
  },
  {
   "cell_type": "code",
   "execution_count": 10,
   "metadata": {},
   "outputs": [
    {
     "name": "stdout",
     "output_type": "stream",
     "text": [
      "Variable   Type     Data/Info\n",
      "-----------------------------\n",
      "a          int      3\n",
      "abcd       float    556.32\n",
      "b          int      5\n",
      "c          float    6.0\n",
      "d          float    4.0\n",
      "f          int      -3\n",
      "x          float    5.7\n"
     ]
    }
   ],
   "source": [
    "%whos"
   ]
  },
  {
   "cell_type": "code",
   "execution_count": 11,
   "metadata": {},
   "outputs": [],
   "source": [
    "del abcd"
   ]
  },
  {
   "cell_type": "code",
   "execution_count": 12,
   "metadata": {},
   "outputs": [
    {
     "name": "stdout",
     "output_type": "stream",
     "text": [
      "Variable   Type     Data/Info\n",
      "-----------------------------\n",
      "a          int      3\n",
      "b          int      5\n",
      "c          float    6.0\n",
      "d          float    4.0\n",
      "f          int      -3\n",
      "x          float    5.7\n"
     ]
    }
   ],
   "source": [
    "%whos"
   ]
  },
  {
   "cell_type": "markdown",
   "metadata": {},
   "source": [
    "## Operators"
   ]
  },
  {
   "cell_type": "code",
   "execution_count": 13,
   "metadata": {},
   "outputs": [],
   "source": [
    "sum_ab = a + b"
   ]
  },
  {
   "cell_type": "code",
   "execution_count": 14,
   "metadata": {},
   "outputs": [
    {
     "name": "stdout",
     "output_type": "stream",
     "text": [
      "8\n"
     ]
    }
   ],
   "source": [
    "# Printing out variable\n",
    "print(sum_ab)"
   ]
  },
  {
   "cell_type": "code",
   "execution_count": 15,
   "metadata": {},
   "outputs": [
    {
     "name": "stdout",
     "output_type": "stream",
     "text": [
      "<class 'int'>\n"
     ]
    }
   ],
   "source": [
    "print(type(sum_ab))"
   ]
  },
  {
   "cell_type": "code",
   "execution_count": 16,
   "metadata": {},
   "outputs": [
    {
     "data": {
      "text/plain": [
       "float"
      ]
     },
     "execution_count": 16,
     "metadata": {},
     "output_type": "execute_result"
    }
   ],
   "source": [
    "# Adding an integer and float - type changes to float as floats are supersets\n",
    "type(a + d)"
   ]
  },
  {
   "cell_type": "code",
   "execution_count": 17,
   "metadata": {},
   "outputs": [],
   "source": [
    "v = ((a + d) ** 3) / 4"
   ]
  },
  {
   "cell_type": "code",
   "execution_count": 18,
   "metadata": {},
   "outputs": [
    {
     "name": "stdout",
     "output_type": "stream",
     "text": [
      "85.75\n"
     ]
    }
   ],
   "source": [
    "print(v)"
   ]
  },
  {
   "cell_type": "code",
   "execution_count": 19,
   "metadata": {},
   "outputs": [
    {
     "name": "stdout",
     "output_type": "stream",
     "text": [
      "helloworld\n"
     ]
    }
   ],
   "source": [
    "# + operator concatenates strings\n",
    "s1 = \"hello\"\n",
    "s2 = \"world\"\n",
    "s = s1 + s2\n",
    "print(s)"
   ]
  },
  {
   "cell_type": "markdown",
   "metadata": {},
   "source": [
    "## Booleans and Comparison Operators"
   ]
  },
  {
   "cell_type": "code",
   "execution_count": 20,
   "metadata": {},
   "outputs": [],
   "source": [
    "# Booleans are either True or False\n",
    "a = True\n",
    "b = True\n",
    "c = False"
   ]
  },
  {
   "cell_type": "code",
   "execution_count": 21,
   "metadata": {},
   "outputs": [
    {
     "name": "stdout",
     "output_type": "stream",
     "text": [
      "Variable   Type     Data/Info\n",
      "-----------------------------\n",
      "a          bool     True\n",
      "b          bool     True\n",
      "c          bool     False\n",
      "d          float    4.0\n",
      "f          int      -3\n",
      "s          str      helloworld\n",
      "s1         str      hello\n",
      "s2         str      world\n",
      "sum_ab     int      8\n",
      "v          float    85.75\n",
      "x          float    5.7\n"
     ]
    }
   ],
   "source": [
    "%whos"
   ]
  },
  {
   "cell_type": "code",
   "execution_count": 22,
   "metadata": {},
   "outputs": [
    {
     "name": "stdout",
     "output_type": "stream",
     "text": [
      "True\n",
      "False\n",
      "False\n"
     ]
    }
   ],
   "source": [
    "# Reviewing relationship between booleans\n",
    "print(a and b)\n",
    "print(a and c)\n",
    "print(c and a)"
   ]
  },
  {
   "cell_type": "code",
   "execution_count": 23,
   "metadata": {},
   "outputs": [
    {
     "name": "stdout",
     "output_type": "stream",
     "text": [
      "True\n"
     ]
    }
   ],
   "source": [
    "d = a or c\n",
    "print(d)"
   ]
  },
  {
   "cell_type": "code",
   "execution_count": 24,
   "metadata": {},
   "outputs": [
    {
     "data": {
      "text/plain": [
       "False"
      ]
     },
     "execution_count": 24,
     "metadata": {},
     "output_type": "execute_result"
    }
   ],
   "source": [
    "not(a)"
   ]
  },
  {
   "cell_type": "code",
   "execution_count": 25,
   "metadata": {},
   "outputs": [],
   "source": [
    "x = 4\n",
    "y = 9\n",
    "z = 8.3\n",
    "r = -3"
   ]
  },
  {
   "cell_type": "code",
   "execution_count": 26,
   "metadata": {},
   "outputs": [
    {
     "data": {
      "text/plain": [
       "True"
      ]
     },
     "execution_count": 26,
     "metadata": {},
     "output_type": "execute_result"
    }
   ],
   "source": [
    "# Using booleans and comparison operators to determine boolean outcome\n",
    "(x<y) and (z<y) or (r==x)"
   ]
  },
  {
   "cell_type": "code",
   "execution_count": 27,
   "metadata": {},
   "outputs": [
    {
     "data": {
      "text/plain": [
       "True"
      ]
     },
     "execution_count": 27,
     "metadata": {},
     "output_type": "execute_result"
    }
   ],
   "source": [
    "# \"and\" operator is always applied first then \"or\"\n",
    "True or False and False"
   ]
  },
  {
   "cell_type": "markdown",
   "metadata": {},
   "source": [
    "## Useful Functions"
   ]
  },
  {
   "cell_type": "code",
   "execution_count": 28,
   "metadata": {},
   "outputs": [
    {
     "name": "stdout",
     "output_type": "stream",
     "text": [
      "6\n"
     ]
    }
   ],
   "source": [
    "# Round function rounds the argument to the nearest integer\n",
    "print(round(5.6231))"
   ]
  },
  {
   "cell_type": "code",
   "execution_count": 29,
   "metadata": {},
   "outputs": [
    {
     "name": "stdout",
     "output_type": "stream",
     "text": [
      "4.88\n"
     ]
    }
   ],
   "source": [
    "# Round function can also specify which value to round on with additional argument\n",
    "print(round(4.883, 2))"
   ]
  },
  {
   "cell_type": "code",
   "execution_count": 30,
   "metadata": {},
   "outputs": [
    {
     "name": "stdout",
     "output_type": "stream",
     "text": [
      "(5, 2)\n"
     ]
    }
   ],
   "source": [
    "# divmod(x,y) function outputs the quotient and the remainder in a tuple\n",
    "print(divmod(27, 5))"
   ]
  },
  {
   "cell_type": "code",
   "execution_count": 31,
   "metadata": {},
   "outputs": [
    {
     "name": "stdout",
     "output_type": "stream",
     "text": [
      "True\n",
      "False\n",
      "True\n"
     ]
    }
   ],
   "source": [
    "# isinstance() returns True if the first argument is an instance of that class.\n",
    "# multiple classes can also be checked at once\n",
    "print(isinstance(1, int))\n",
    "print(isinstance(1.0, int))\n",
    "print(isinstance(1, (int, float)))"
   ]
  },
  {
   "cell_type": "code",
   "execution_count": 32,
   "metadata": {},
   "outputs": [
    {
     "name": "stdout",
     "output_type": "stream",
     "text": [
      "2\n"
     ]
    }
   ],
   "source": [
    "# pow(x,y,z) x raised to the power y, modulus z\n",
    "print(pow(2,4,7))"
   ]
  },
  {
   "cell_type": "code",
   "execution_count": 33,
   "metadata": {},
   "outputs": [
    {
     "name": "stdout",
     "output_type": "stream",
     "text": [
      "Enter a number: 12\n"
     ]
    }
   ],
   "source": [
    "# Input() a = input(\"Enter something\") - type is returned as string\n",
    "x = input(\"Enter a number: \")"
   ]
  },
  {
   "cell_type": "code",
   "execution_count": 34,
   "metadata": {},
   "outputs": [
    {
     "data": {
      "text/plain": [
       "str"
      ]
     },
     "execution_count": 34,
     "metadata": {},
     "output_type": "execute_result"
    }
   ],
   "source": [
    "type(x)"
   ]
  },
  {
   "cell_type": "markdown",
   "metadata": {},
   "source": [
    "## Control Flow"
   ]
  },
  {
   "cell_type": "code",
   "execution_count": 35,
   "metadata": {},
   "outputs": [
    {
     "name": "stdout",
     "output_type": "stream",
     "text": [
      "3\n",
      "5\n",
      "I am outside the if condition\n"
     ]
    }
   ],
   "source": [
    "# Simple if function\n",
    "a = int(input())\n",
    "b = int(input())\n",
    "if a > b:\n",
    "    print(a)\n",
    "    print(\"I am still inside if condition\")\n",
    "print(\"I am outside the if condition\")"
   ]
  },
  {
   "cell_type": "code",
   "execution_count": 36,
   "metadata": {},
   "outputs": [
    {
     "name": "stdout",
     "output_type": "stream",
     "text": [
      "5\n",
      "5\n",
      "5\n",
      "5 is equal 5\n",
      "This line will always print as it is outside of coniditions\n"
     ]
    }
   ],
   "source": [
    "# Using if, elif, else to apply conditions\n",
    "a = int(input())\n",
    "b = int(input())\n",
    "if a > b:\n",
    "    print(a)\n",
    "    print(f\"{a} is greater than {b}\")\n",
    "if a == b:\n",
    "    print(a)\n",
    "    print(f\"{a} is equal {b}\")\n",
    "else:\n",
    "    print(b)\n",
    "    print(f\"{b} is greater than {a}\")\n",
    "    \n",
    "print(\"This line will always print as it is outside of coniditions\")"
   ]
  },
  {
   "cell_type": "code",
   "execution_count": 37,
   "metadata": {},
   "outputs": [
    {
     "name": "stdout",
     "output_type": "stream",
     "text": [
      "Enter a real number: 4\n",
      "4 is even\n"
     ]
    }
   ],
   "source": [
    "\"\"\" \n",
    "User will enter a float - 238.915. Your task is to find out the integer\n",
    "portion before the point (238) and then check whether that integer poriton is\n",
    "an even number or not\n",
    "\"\"\"\n",
    "\n",
    "x = float(input(\"Enter a real number: \"))\n",
    "y = round(x)\n",
    "\n",
    "if y > x:\n",
    "    int_portion = y - 1\n",
    "    if int_portion % 2 == 0:\n",
    "        print(f\"{int_portion} is even\")\n",
    "    else:\n",
    "        print(f\"{int_portion} is not even\")\n",
    "else:\n",
    "    int_portion = y\n",
    "    if int_portion % 2 == 0:\n",
    "        print(f\"{int_portion} is even\")\n",
    "    else:\n",
    "        print(f\"{int_portion} is not even\")"
   ]
  },
  {
   "cell_type": "markdown",
   "metadata": {},
   "source": [
    "## Loops"
   ]
  },
  {
   "cell_type": "code",
   "execution_count": 38,
   "metadata": {},
   "outputs": [
    {
     "name": "stdout",
     "output_type": "stream",
     "text": [
      "4\n",
      "1\n",
      "This is iteration number 1\n",
      "4\n",
      "This is iteration number 2\n",
      "9\n",
      "This is iteration number 3\n",
      "This loop is done\n"
     ]
    }
   ],
   "source": [
    "# Writing a while loop using a conditional\n",
    "n = int(input())\n",
    "i = 1\n",
    "\n",
    "while i < n:\n",
    "    print(i**2)\n",
    "    print(f\"This is iteration number {i}\")\n",
    "    i += 1\n",
    "print(\"This loop is done\")"
   ]
  },
  {
   "cell_type": "code",
   "execution_count": 39,
   "metadata": {},
   "outputs": [
    {
     "name": "stdout",
     "output_type": "stream",
     "text": [
      "Inside Else\n",
      "Inside Else\n",
      "Inside Else\n",
      "Inside Else\n",
      "Inside Else\n",
      "Inside Else\n",
      "Inside Else\n",
      "Inside Else\n",
      "Inside If\n",
      "Done\n"
     ]
    }
   ],
   "source": [
    "# Writing a while loop using a boolean conditional\n",
    "n = 10\n",
    "i = 1 \n",
    "\n",
    "while True:\n",
    "    if i % 9 == 0:\n",
    "        print(\"Inside If\")\n",
    "        break\n",
    "    else:\n",
    "        i += 1\n",
    "        print(\"Inside Else\")\n",
    "        continue\n",
    "print(\"Done\")"
   ]
  },
  {
   "cell_type": "code",
   "execution_count": 40,
   "metadata": {},
   "outputs": [
    {
     "name": "stdout",
     "output_type": "stream",
     "text": [
      "1\n",
      "13\n",
      "25\n",
      "37\n",
      "49\n",
      "61\n",
      "73\n",
      "85\n",
      "97\n",
      "109\n",
      "[0, 144, 576, 1296, 2304, 3600, 5184, 7056, 9216, 11664]\n"
     ]
    }
   ],
   "source": [
    "# Writing a for loop operating on a range\n",
    "l = []\n",
    "\n",
    "for i in range(0, 120, 12):\n",
    "    print(i+1)\n",
    "    l.append(i**2)\n",
    "print(l)"
   ]
  },
  {
   "cell_type": "code",
   "execution_count": 41,
   "metadata": {},
   "outputs": [
    {
     "name": "stdout",
     "output_type": "stream",
     "text": [
      "4.9\n",
      "cherry\n",
      "apple\n",
      "Loop completes its iterations\n",
      "Outside of the loop\n"
     ]
    }
   ],
   "source": [
    "# Writing a for loop with else condition\n",
    "s = {\"apple\", 4.9, \"cherry\"}\n",
    "\n",
    "for x in s:\n",
    "    print(x)\n",
    "    i += 1\n",
    "    if i == 2:\n",
    "        break\n",
    "    else:\n",
    "        pass\n",
    "else:\n",
    "    print(\"Loop completes its iterations\")\n",
    "print(\"Outside of the loop\")"
   ]
  },
  {
   "cell_type": "code",
   "execution_count": 42,
   "metadata": {},
   "outputs": [
    {
     "name": "stdout",
     "output_type": "stream",
     "text": [
      "Apple 44\n",
      "Banana -4.9\n",
      "Cherry 44\n"
     ]
    }
   ],
   "source": [
    "# Writing a for loop to iterate over a dictionary\n",
    "d = {\"Apple\": 44 , \"Banana\": -4.9, \"Cherry\": 44}\n",
    "for x in d:\n",
    "    print(x, d[x])"
   ]
  },
  {
   "cell_type": "code",
   "execution_count": 43,
   "metadata": {},
   "outputs": [
    {
     "name": "stdout",
     "output_type": "stream",
     "text": [
      "[-5, 1, 2, 2, 3, 4, 7, 9]\n"
     ]
    }
   ],
   "source": [
    "\"\"\"\n",
    "Given a list of numbers i.e.[1, 2, 4, -5, 7, 9, 3, 2], make another list that \n",
    "contains all the items in sorted order from min to max\n",
    "\"\"\"\n",
    "l = [1, 2, 4, -5, 7, 9, 3, 2]\n",
    "\n",
    "for j in range(len(l)):\n",
    "    m = l[j]\n",
    "    idx = j\n",
    "    c = j\n",
    "    for i in range(j, len(l)):\n",
    "        if l[i] <= m:\n",
    "            m = l[i]\n",
    "            idx = c\n",
    "        c += 1\n",
    "    tmp = l[j]\n",
    "    l[j] = m \n",
    "    l[idx] = tmp\n",
    "print(l)"
   ]
  },
  {
   "cell_type": "markdown",
   "metadata": {},
   "source": [
    "## Functions"
   ]
  },
  {
   "cell_type": "code",
   "execution_count": 44,
   "metadata": {},
   "outputs": [],
   "source": [
    "# Creating a function\n",
    "def print_success():\n",
    "    print(\"I am done\")\n",
    "    print(\"Send me another task\")"
   ]
  },
  {
   "cell_type": "code",
   "execution_count": 46,
   "metadata": {},
   "outputs": [
    {
     "name": "stdout",
     "output_type": "stream",
     "text": [
      "I am done\n",
      "Send me another task\n"
     ]
    }
   ],
   "source": [
    "# Calling the function\n",
    "print_success()"
   ]
  },
  {
   "cell_type": "code",
   "execution_count": 55,
   "metadata": {},
   "outputs": [],
   "source": [
    "# Functions (Doc String) - Short description of what a function does. Typically\n",
    "# goes below the function name in quotes.\n",
    "def print_success2():\n",
    "    \"This function does not do anything except print a message\"\n",
    "    print(\"Hello\")"
   ]
  },
  {
   "cell_type": "code",
   "execution_count": 59,
   "metadata": {},
   "outputs": [],
   "source": [
    "# Looking at the doc string for the function by using the \"?\". One question mark\n",
    "# calls doc string, two question marks call function implementation. \n",
    "print_success2??"
   ]
  },
  {
   "cell_type": "code",
   "execution_count": 62,
   "metadata": {},
   "outputs": [],
   "source": [
    "len??"
   ]
  },
  {
   "cell_type": "code",
   "execution_count": 67,
   "metadata": {},
   "outputs": [],
   "source": [
    "# Creating dynamic functions with input arguments\n",
    "def print_message(msg):\n",
    "    \"\"\"The function prints the message supplied by the user or prints that\n",
    "    the message is not in the form of a string\"\"\"\n",
    "    if isinstance(msg, str):\n",
    "        print(msg)\n",
    "    else:\n",
    "        print(\"Your input argument is not a string\")\n",
    "        print(f\"Here is the type of what you have supplied: {type(msg)}\")"
   ]
  },
  {
   "cell_type": "code",
   "execution_count": 64,
   "metadata": {},
   "outputs": [
    {
     "name": "stdout",
     "output_type": "stream",
     "text": [
      "Help on function print_message in module __main__:\n",
      "\n",
      "print_message(msg)\n",
      "    The function prints the message supplied by the user or prints that\n",
      "    the message is not in the form of a string\n",
      "\n"
     ]
    }
   ],
   "source": [
    "# Getting docstring using help function\n",
    "help(print_message)"
   ]
  },
  {
   "cell_type": "code",
   "execution_count": 65,
   "metadata": {},
   "outputs": [
    {
     "name": "stdout",
     "output_type": "stream",
     "text": [
      "This is the message\n"
     ]
    }
   ],
   "source": [
    "# Calling function\n",
    "print_message(\"This is the message\")"
   ]
  },
  {
   "cell_type": "code",
   "execution_count": 68,
   "metadata": {},
   "outputs": [
    {
     "name": "stdout",
     "output_type": "stream",
     "text": [
      "Your input argument is not a string\n",
      "Here is the type of what you have supplied: <class 'int'>\n"
     ]
    }
   ],
   "source": [
    "# Calling function\n",
    "print_message(23)"
   ]
  },
  {
   "cell_type": "code",
   "execution_count": null,
   "metadata": {},
   "outputs": [],
   "source": []
  }
 ],
 "metadata": {
  "kernelspec": {
   "display_name": "PythonData",
   "language": "python",
   "name": "pythondata"
  },
  "language_info": {
   "codemirror_mode": {
    "name": "ipython",
    "version": 3
   },
   "file_extension": ".py",
   "mimetype": "text/x-python",
   "name": "python",
   "nbconvert_exporter": "python",
   "pygments_lexer": "ipython3",
   "version": "3.8.5"
  }
 },
 "nbformat": 4,
 "nbformat_minor": 4
}
