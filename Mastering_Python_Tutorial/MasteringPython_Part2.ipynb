{
 "cells": [
  {
   "cell_type": "markdown",
   "metadata": {},
   "source": [
    "## Deep Dive: Data Structures\n",
    "- Lists, Tuples, Sets, and Dictionaries"
   ]
  },
  {
   "cell_type": "code",
   "execution_count": 1,
   "metadata": {},
   "outputs": [],
   "source": [
    "# Example of a list\n",
    "l = [1, 3, 4.9, \"name\", 3]\n",
    "\n",
    "# Example of a tuple\n",
    "t = (1, 3, 4.9, \"name\", 3)\n",
    "\n",
    "# Example of a set\n",
    "s = {1, 3, 4.9, \"name\", 3}\n",
    "\n",
    "# Example of a dictionary\n",
    "d = {23: \"twentythree\", \"B\": 43, \"C\":\"CCD\"}"
   ]
  },
  {
   "cell_type": "code",
   "execution_count": 2,
   "metadata": {},
   "outputs": [
    {
     "name": "stdout",
     "output_type": "stream",
     "text": [
      "The Type of L is <class 'list'>\n",
      "The Type of L is <class 'tuple'>\n",
      "The Type of L is <class 'set'>\n",
      "The Type of L is <class 'dict'>\n"
     ]
    }
   ],
   "source": [
    "print(f\"The Type of L is {type(l)}\")\n",
    "print(f\"The Type of L is {type(t)}\")\n",
    "print(f\"The Type of L is {type(s)}\")\n",
    "print(f\"The Type of L is {type(d)}\")"
   ]
  },
  {
   "cell_type": "code",
   "execution_count": 3,
   "metadata": {},
   "outputs": [
    {
     "name": "stdout",
     "output_type": "stream",
     "text": [
      "3\n",
      "3\n",
      "True\n",
      "twentythree\n"
     ]
    }
   ],
   "source": [
    "# Accessing elements in each data structure:\n",
    "# Returns index value\n",
    "print(l[1])\n",
    "# Returns index value\n",
    "print(t[1])\n",
    "# We can only see if value is contained in set as there is no defined order in sets\n",
    "print(3 in s)\n",
    "# Return the value for the key entered\n",
    "print(d[23])"
   ]
  },
  {
   "cell_type": "code",
   "execution_count": 4,
   "metadata": {},
   "outputs": [
    {
     "data": {
      "text/plain": [
       "[3, 4.9]"
      ]
     },
     "execution_count": 4,
     "metadata": {},
     "output_type": "execute_result"
    }
   ],
   "source": [
    "# Accessing a slice of a list - follows same rules as indexing/slicing strings\n",
    "l[1:3]"
   ]
  },
  {
   "cell_type": "code",
   "execution_count": 5,
   "metadata": {},
   "outputs": [
    {
     "data": {
      "text/plain": [
       "(3, 4.9)"
      ]
     },
     "execution_count": 5,
     "metadata": {},
     "output_type": "execute_result"
    }
   ],
   "source": [
    "# Accessing a slice of a tuple - works same as lists but immutable\n",
    "t[1:3]"
   ]
  },
  {
   "cell_type": "code",
   "execution_count": 6,
   "metadata": {},
   "outputs": [
    {
     "name": "stdout",
     "output_type": "stream",
     "text": [
      "[1, 3, 4.9, 'name', 3]\n",
      "[1, 3, 4.9, 'name', 3, 'how', 'are', 'you']\n",
      "[1, 3, 4.9, 'name', 3, 'how', 'are', 'you', 'NewElement']\n",
      "[1, 3, 4.9, 'name', 3, 'how', 'are', 'you']\n"
     ]
    }
   ],
   "source": [
    "# Adding elements to a list using concatenate\n",
    "print(l)\n",
    "l = l + [\"how\", \"are\", \"you\"]\n",
    "\n",
    "# Adding more elements to a list using the append() function\n",
    "print(l)\n",
    "l.append(\"NewElement\")\n",
    "print(l)\n",
    "\n",
    "# Removing an element from a list\n",
    "l.remove(\"NewElement\")\n",
    "print(l)"
   ]
  },
  {
   "cell_type": "code",
   "execution_count": 7,
   "metadata": {},
   "outputs": [
    {
     "name": "stdout",
     "output_type": "stream",
     "text": [
      "[1, 3, 4.9, 'name', 3, 'how', 'are', 'you']\n",
      "['ReplacementElement', 3, 4.9, 'name', 3, 'how', 'are', 'you']\n"
     ]
    }
   ],
   "source": [
    "# Changing value of elements in a list\n",
    "print(l)\n",
    "l[0] = \"ReplacementElement\"\n",
    "print(l)"
   ]
  },
  {
   "cell_type": "code",
   "execution_count": 8,
   "metadata": {},
   "outputs": [
    {
     "name": "stdout",
     "output_type": "stream",
     "text": [
      "(1, 2, 3, 4, 5, 6)\n"
     ]
    }
   ],
   "source": [
    "# Adding two tuples together - we cannot change tuples but we can merge\n",
    "t2 = (1, 2, 3)\n",
    "t3 = (4, 5, 6)\n",
    "t4 = t2 + t3\n",
    "print(t4)"
   ]
  },
  {
   "cell_type": "code",
   "execution_count": 9,
   "metadata": {},
   "outputs": [
    {
     "name": "stdout",
     "output_type": "stream",
     "text": [
      "{1, 3, 4.9, 'name'}\n",
      "{1, 3, 4.9, 46, 'name'}\n",
      "{1, 3, 4.9, 'game', 46, 23, 'name'}\n"
     ]
    }
   ],
   "source": [
    "# Adding to sets using the add() function\n",
    "print(s)\n",
    "s.add(46)\n",
    "print(s)\n",
    "\n",
    "# Adding to sets using the update() method - allows us to add multiple elements\n",
    "s.update({23, \"game\", 1})\n",
    "print(s)"
   ]
  },
  {
   "cell_type": "code",
   "execution_count": 10,
   "metadata": {},
   "outputs": [
    {
     "name": "stdout",
     "output_type": "stream",
     "text": [
      "{23: 'twentythree', 'B': 43, 'C': 'CCD'}\n",
      "{23: 'twentythree', 'B': 43, 'C': 'CCD', 'NewKey': 'NewValue'}\n"
     ]
    }
   ],
   "source": [
    "# Adding to dictionaries\n",
    "print(d)\n",
    "d[\"NewKey\"] = \"NewValue\"\n",
    "print(d)"
   ]
  },
  {
   "cell_type": "code",
   "execution_count": 11,
   "metadata": {},
   "outputs": [
    {
     "name": "stdout",
     "output_type": "stream",
     "text": [
      "['ReplacementElement', 3, 4.9, 'name', 3, 'how', 'are', 'you']\n",
      "[3, 4.9, 'name', 3, 'how', 'are', 'you']\n"
     ]
    }
   ],
   "source": [
    "# Removing elements from a list using del function\n",
    "print(l)\n",
    "del l[0]\n",
    "print(l)"
   ]
  },
  {
   "cell_type": "code",
   "execution_count": 12,
   "metadata": {},
   "outputs": [
    {
     "name": "stdout",
     "output_type": "stream",
     "text": [
      "{1, 3, 4.9, 'game', 46, 23, 'name'}\n",
      "{1, 3, 4.9, 46, 23, 'name'}\n",
      "{23: 'twentythree', 'B': 43, 'C': 'CCD', 'NewKey': 'NewValue'}\n",
      "{'B': 43, 'C': 'CCD', 'NewKey': 'NewValue'}\n"
     ]
    }
   ],
   "source": [
    "# Removing elements from sets and dictionaries\n",
    "print(s)\n",
    "s.remove(\"game\")\n",
    "print(s)\n",
    "\n",
    "print(d)\n",
    "del d[23]\n",
    "print(d)"
   ]
  },
  {
   "cell_type": "code",
   "execution_count": 17,
   "metadata": {},
   "outputs": [
    {
     "name": "stdout",
     "output_type": "stream",
     "text": [
      "[3, 4.9, 'UpdatedValue', 3, 'how', 'are', 'you']\n",
      "[3, 4.9, 'UpdatedValue', 3, 'how', 'are', 'you']\n",
      "[3, 4.9, 'UpdatedValue', 3, 'how', 'are', 'you']\n",
      "[3, 4.9, 'UpdatedValue', 3, 'how', 'are', 'you']\n",
      "[3, 4.9, 'UpdatedValue', 3, 'how', 'are', 'you']\n",
      "['NewUpdatedElmt', 4.9, 'UpdatedValue', 3, 'how', 'are', 'you']\n",
      "[3, 4.9, 'UpdatedValue', 3, 'how', 'are', 'you']\n"
     ]
    }
   ],
   "source": [
    "# Using the copy() function on lists - allows us to create lists independent \n",
    "# of one another - Works for sets and dictionaries as well\n",
    "\n",
    "print(l)\n",
    "l2 = l\n",
    "print(l2)\n",
    "l2[2] = \"UpdatedValue\"\n",
    "print(l)\n",
    "print(l2)\n",
    "\n",
    "l3 = l.copy()\n",
    "print(l3)\n",
    "l3[0] = \"NewUpdatedElmt\"\n",
    "print(l3)\n",
    "print(l)"
   ]
  },
  {
   "cell_type": "code",
   "execution_count": 19,
   "metadata": {},
   "outputs": [
    {
     "name": "stdout",
     "output_type": "stream",
     "text": [
      "[3, 4.9]\n",
      "[3, 4.9]\n",
      "['New', 4.9]\n",
      "[3, 4.9]\n"
     ]
    }
   ],
   "source": [
    "# If you create a list based on a slice of another list, it is automatically\n",
    "# a copy - independent list so changes are not reflected in both lists\n",
    "l3 = l[0:2]\n",
    "print(l[0:2])\n",
    "print(l3)\n",
    "l3[0] = \"New\"\n",
    "print(l3)\n",
    "print(l[0:2])"
   ]
  },
  {
   "cell_type": "code",
   "execution_count": null,
   "metadata": {},
   "outputs": [],
   "source": []
  }
 ],
 "metadata": {
  "kernelspec": {
   "display_name": "PythonData",
   "language": "python",
   "name": "pythondata"
  },
  "language_info": {
   "codemirror_mode": {
    "name": "ipython",
    "version": 3
   },
   "file_extension": ".py",
   "mimetype": "text/x-python",
   "name": "python",
   "nbconvert_exporter": "python",
   "pygments_lexer": "ipython3",
   "version": "3.8.5"
  }
 },
 "nbformat": 4,
 "nbformat_minor": 4
}
